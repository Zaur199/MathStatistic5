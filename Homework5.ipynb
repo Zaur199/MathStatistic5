{
 "cells": [
  {
   "cell_type": "markdown",
   "id": "95d28cf6",
   "metadata": {},
   "source": [
    "#### ***Задача 1***. Когда используется критерий Стьюдента, а когда Z –критерий?"
   ]
  },
  {
   "cell_type": "markdown",
   "id": "511233a7",
   "metadata": {},
   "source": [
    "### Решение"
   ]
  },
  {
   "cell_type": "markdown",
   "id": "b2c74b5e",
   "metadata": {},
   "source": [
    "Z-критерий используется если:\n",
    "* известна σ генеральная совокупность\n",
    "* нормальность\n",
    "\n",
    "t-критерий(критерий Стьюдента) используется:\n",
    "* σ генеральная СОВОКУПНОСТЬ неизвестна\n",
    "* нормальность\n",
    "* равенство дисперсий\n",
    "\n",
    "При больших размерах выборок результаты z-теста и k-теста дают схожие значения p-value"
   ]
  },
  {
   "cell_type": "markdown",
   "id": "b3bb5d8d",
   "metadata": {},
   "source": [
    "#### ***Задача 2.*** Проведите тест гипотезы. Утверждается, что шарики для подшипников, изготовленные автоматическим станком, имеют средний диаметр 17 мм. Используя односторонний критерий с α=0,05, проверить эту гипотезу, если в выборке из n=100 шариков средний диаметр оказался равным 17.5 мм, а дисперсия известна и равна 4 кв. мм."
   ]
  },
  {
   "cell_type": "markdown",
   "id": "f5ade67f",
   "metadata": {},
   "source": [
    "### Решение"
   ]
  },
  {
   "cell_type": "markdown",
   "id": "8fa98d14",
   "metadata": {},
   "source": [
    "- Сформируем гипотезу: \n",
    "- H0: μ=μ0\n",
    "- H1: μ>μ0"
   ]
  },
  {
   "cell_type": "markdown",
   "id": "776a530c",
   "metadata": {},
   "source": [
    "- Выбор критерия: Zн=Xср-μ/σ/√n"
   ]
  },
  {
   "cell_type": "markdown",
   "id": "a3e326ff",
   "metadata": {},
   "source": [
    "- Уровень статистической значимости: α=0.05"
   ]
  },
  {
   "cell_type": "markdown",
   "id": "a9182d41",
   "metadata": {},
   "source": [
    "tкрит=1.65(значение по таблице z-значений)"
   ]
  },
  {
   "cell_type": "markdown",
   "id": "075fefff",
   "metadata": {},
   "source": [
    "Zн=Xср-μ/σ/√n=17.5-17/2/√100=2.5"
   ]
  },
  {
   "cell_type": "markdown",
   "id": "ed897f54",
   "metadata": {},
   "source": [
    "tкрит<tнабл, следовательно H0 отвергается\n",
    "- Вывод: шарики для подшипников имеют диаметр больше 17 мм. Гипотеза верна при α=0.05"
   ]
  },
  {
   "cell_type": "markdown",
   "id": "f9a18c8b",
   "metadata": {},
   "source": [
    "#### ***Задача 3.*** \n",
    "Проведите тест гипотезы. Продавец утверждает, что средний вес пачки печенья\n",
    "составляет 200 г.\n",
    "Из партии извлечена выборка из 10 пачек. Вес каждой пачки составляет:\n",
    "202, 203, 199, 197, 195, 201, 200, 204, 194, 190.\n",
    "Известно, что их веса распределены нормально.\n",
    "Верно ли утверждение продавца, если учитывать, что доверительная вероятность равна\n",
    "99%? (Провести двусторонний тест.)"
   ]
  },
  {
   "cell_type": "markdown",
   "id": "e236c5b3",
   "metadata": {},
   "source": [
    "### Решение"
   ]
  },
  {
   "cell_type": "code",
   "execution_count": 44,
   "id": "5e5871d8",
   "metadata": {},
   "outputs": [],
   "source": [
    "import numpy as np\n",
    "import scipy.stats as stats"
   ]
  },
  {
   "cell_type": "markdown",
   "id": "07a49d58",
   "metadata": {},
   "source": [
    "Сформируем гипотезу:\n",
    "\n",
    "- H0: μ = 200 гр -> утверждение, что средний вес пачки печенья составляет 200 г верно\n",
    "- H1: μ < 200 гр -> утверждение, что средний вес пачки печенья составляет 200 г неверно"
   ]
  },
  {
   "cell_type": "code",
   "execution_count": 45,
   "id": "65dfab3a",
   "metadata": {},
   "outputs": [
    {
     "name": "stdout",
     "output_type": "stream",
     "text": [
      "x_var=19.833333333333332\n",
      "x_sigma=4.453463071962462\n",
      "x_mean_box=198.5\n"
     ]
    }
   ],
   "source": [
    "x_box = np.array([202, 203, 199, 197, 195, 201, 200, 204, 194, 190])\n",
    "μ = 200\n",
    "number = 10\n",
    "x_var = np.var(x_box, ddof=1)\n",
    "x_sigma = x_var**0.5\n",
    "x_mean_box = np.mean(x_box)\n",
    "print(f'x_var={x_var}')\n",
    "print(f'x_sigma={x_sigma}')\n",
    "print(f'x_mean_box={x_mean_box}')"
   ]
  },
  {
   "cell_type": "markdown",
   "id": "ef582dc3",
   "metadata": {},
   "source": [
    "Используем t-критерий:"
   ]
  },
  {
   "cell_type": "code",
   "execution_count": 46,
   "id": "db4a07fd",
   "metadata": {},
   "outputs": [
    {
     "data": {
      "text/plain": [
       "-0.10651074037450894"
      ]
     },
     "execution_count": 46,
     "metadata": {},
     "output_type": "execute_result"
    }
   ],
   "source": [
    "tнабл = (x_mean_box - μ)/x_sigma/np.sqrt(number)\n",
    "tнабл"
   ]
  },
  {
   "cell_type": "code",
   "execution_count": 47,
   "id": "de5a8c4d",
   "metadata": {},
   "outputs": [
    {
     "data": {
      "text/plain": [
       "(-2.8784404727135864, 2.878440472713585)"
      ]
     },
     "execution_count": 47,
     "metadata": {},
     "output_type": "execute_result"
    }
   ],
   "source": [
    "alpha = 0.01\n",
    "t1_box = stats.t.ppf(alpha/2, df=2*(number-1))\n",
    "t2_box = stats.t.ppf(1-alpha/2, df=2*(number-1))\n",
    "t1_box, t2_box"
   ]
  },
  {
   "cell_type": "markdown",
   "id": "7381e25b",
   "metadata": {},
   "source": [
    "- tкрит = 2.878\n",
    "- tнабл = -0.106\n",
    "- tкрит>tнабл\n",
    "- H0>H1. Нулевая гипотеза не отвергается. \n",
    "- Вывод: гипотеза о том, что средний вес пачки составляет 200 гр. верна"
   ]
  },
  {
   "cell_type": "markdown",
   "id": "964bd090",
   "metadata": {},
   "source": [
    "### Задача 4. \n",
    "Есть ли статистически значимые различия в росте\n",
    "дочерей?\n",
    "Рост матерей 172, 177, 158, 170, 178,175, 164, 160, 169, 165.\n",
    "Рост взрослых дочерей: 173, 175, 162, 174, 175, 168, 155, 170, 160, 163"
   ]
  },
  {
   "cell_type": "markdown",
   "id": "ea90bcab",
   "metadata": {},
   "source": [
    "### Решение"
   ]
  },
  {
   "cell_type": "code",
   "execution_count": 48,
   "id": "31fa62c2",
   "metadata": {},
   "outputs": [],
   "source": [
    "import numpy as np\n",
    "import scipy.stats as stats"
   ]
  },
  {
   "cell_type": "markdown",
   "id": "4b89afe0",
   "metadata": {},
   "source": [
    "Сформируем гипотезу:\n",
    "- H0: μx = μy -> статистически значимых различий в росте дочерей нет\n",
    "- H1: μx != μy -> статистически значимые различия в росте дочерей имеются"
   ]
  },
  {
   "cell_type": "code",
   "execution_count": 49,
   "id": "835c0b47",
   "metadata": {},
   "outputs": [],
   "source": [
    "x = np.array([172, 177, 158, 170, 178,175, 164, 160, 169, 165])\n",
    "y = np.array([173, 175, 162, 174, 175, 168, 155, 170, 160, 163])"
   ]
  },
  {
   "cell_type": "code",
   "execution_count": 50,
   "id": "f8396650",
   "metadata": {},
   "outputs": [
    {
     "name": "stdout",
     "output_type": "stream",
     "text": [
      "y_mean=167.5\n",
      "x_mean=168.8\n",
      "x_v=48.17777777777778\n",
      "y_v=50.5\n",
      "n_x=10\n",
      "n_y=10\n"
     ]
    }
   ],
   "source": [
    "x_mean = np.mean(x)\n",
    "y_mean = np.mean(y)\n",
    "x_v = np.var(x, ddof=1)\n",
    "y_v = np.var(y, ddof=1)\n",
    "n_x = len(x)\n",
    "n_y = len(y)\n",
    "print(f'y_mean={y_mean}')\n",
    "print(f'x_mean={x_mean}')\n",
    "print(f'x_v={x_v}')\n",
    "print(f'y_v={y_v}')\n",
    "print(f'n_x={n_x}')\n",
    "print(f'n_y={n_y}')"
   ]
  },
  {
   "cell_type": "code",
   "execution_count": 51,
   "id": "b7259f85",
   "metadata": {},
   "outputs": [
    {
     "data": {
      "text/plain": [
       "0.41384114976800535"
      ]
     },
     "execution_count": 51,
     "metadata": {},
     "output_type": "execute_result"
    }
   ],
   "source": [
    "t_emp = (x_mean - y_mean)/np.sqrt(x_v/n_x + y_v/n_y)\n",
    "t_emp"
   ]
  },
  {
   "cell_type": "markdown",
   "id": "09efcac5",
   "metadata": {},
   "source": [
    "Возьмём уровень статистической значимоости α=0.05"
   ]
  },
  {
   "cell_type": "code",
   "execution_count": 52,
   "id": "1baca4d5",
   "metadata": {},
   "outputs": [
    {
     "data": {
      "text/plain": [
       "(-2.10092204024096, 2.10092204024096)"
      ]
     },
     "execution_count": 52,
     "metadata": {},
     "output_type": "execute_result"
    }
   ],
   "source": [
    "alpha1 = 0.05\n",
    "n = n_x\n",
    "t1 = stats.t.ppf(alpha1/2, df=2*(n-1))\n",
    "t2 = stats.t.ppf(1-alpha1/2, df=2*(n-1))\n",
    "t1, t2"
   ]
  },
  {
   "cell_type": "markdown",
   "id": "97d18e48",
   "metadata": {},
   "source": [
    "Так как выборка у нас независимая, то имеем:\n"
   ]
  },
  {
   "cell_type": "code",
   "execution_count": 53,
   "id": "4fea9e78",
   "metadata": {},
   "outputs": [
    {
     "data": {
      "text/plain": [
       "Ttest_indResult(statistic=0.4138411497680053, pvalue=0.68387966499013)"
      ]
     },
     "execution_count": 53,
     "metadata": {},
     "output_type": "execute_result"
    }
   ],
   "source": [
    "stats.ttest_ind(x, y)"
   ]
  },
  {
   "cell_type": "markdown",
   "id": "a067541a",
   "metadata": {},
   "source": [
    "- tкрит = 2.1\n",
    "- t_emp = 0.413\n",
    "- tкрит>t_emp\n",
    "- H0>H1. Нулевая гипотеза не отвергается. Статистически значимых различий в росте дочерей нет"
   ]
  }
 ],
 "metadata": {
  "kernelspec": {
   "display_name": "Python 3 (ipykernel)",
   "language": "python",
   "name": "python3"
  },
  "language_info": {
   "codemirror_mode": {
    "name": "ipython",
    "version": 3
   },
   "file_extension": ".py",
   "mimetype": "text/x-python",
   "name": "python",
   "nbconvert_exporter": "python",
   "pygments_lexer": "ipython3",
   "version": "3.9.13"
  }
 },
 "nbformat": 4,
 "nbformat_minor": 5
}
